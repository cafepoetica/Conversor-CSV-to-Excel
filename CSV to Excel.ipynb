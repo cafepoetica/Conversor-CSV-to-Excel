{
 "cells": [
  {
   "cell_type": "markdown",
   "id": "0af3794a",
   "metadata": {},
   "source": [
    "                                        ··· Conversor CSV TO EXCEL ···\n",
    "                                             Abraham Bravo Morales"
   ]
  },
  {
   "cell_type": "markdown",
   "id": "1bdec4b9",
   "metadata": {},
   "source": [
    "#### INSTRUCCIONES\n",
    "\n",
    "1.- Crea una carpeta que contenga los siguentes archivos:\n",
    "\n",
    "    1.1 Este Script de Python\n",
    "    \n",
    "    1.2 Un libro de excel llamado 'blanco' y cuya hoja 1 se llame 'Hoja1'.(Este debe ser un libro vacio en blanco)\n",
    "    \n",
    "    1.3 El archivo CSV que vas a convertir a Excel\n",
    "    \n",
    "2.- Ejecuta el Script de python\n",
    "\n",
    "    2.1 Ingresa el nombre del CSV con extension\n",
    "    \n",
    "    2.2 Ingresa el separador del archivo CSV\n",
    "    \n",
    "    2.3 Ingresa el nombre que quieres ponerle a el archivo de excel con extension\n",
    "    \n",
    "    2.4 Ingresa el nombre de la hoja de excel"
   ]
  },
  {
   "cell_type": "code",
   "execution_count": 6,
   "id": "c25069ef",
   "metadata": {},
   "outputs": [
    {
     "name": "stdout",
     "output_type": "stream",
     "text": [
      "Este programa escribe los datos en cualquier archivo de valores separados por comas (como: .csv o .data) en un archivo de Excel\n",
      "Los archivos de entrada y salida deben estar en el mismo directorio del archivo python para que el programa funcione. \\ n \n",
      "Nombre del archivo CSV para la entrada (con la extensión):query_Contactabilidad_nueva.csv\n",
      "Separador del archivo CSV:|\n",
      "Nombre del archivo de Excel para la salida (con la extensión):prueba1.xlsx\n",
      "Nombre de la hoja de Excel para la salida:Hoja1\n"
     ]
    },
    {
     "name": "stderr",
     "output_type": "stream",
     "text": [
      "<ipython-input-6-0bf5017def31>:18: DeprecationWarning: Call to deprecated function get_sheet_by_name (Use wb[sheetname]).\n",
      "  sheet = wb.get_sheet_by_name('Hoja1')\n"
     ]
    }
   ],
   "source": [
    "#!python3\n",
    "# -*- coding: utf-8 -*-\n",
    "import openpyxl\n",
    "import sys\n",
    "\n",
    "#inputs\n",
    "print( \"Este programa escribe los datos en cualquier archivo de valores separados por comas (como: .csv o .data) en un archivo de Excel\" )\n",
    "print( \"Los archivos de entrada y salida deben estar en el mismo directorio del archivo python para que el programa funcione. \\ n \" )\n",
    "\n",
    "csv_name = input( \"Nombre del archivo CSV para la entrada (con la extensión):\" )\n",
    "sep = input( \"Separador del archivo CSV:\" )\n",
    "excel_name = input( \"Nombre del archivo de Excel para la salida (con la extensión):\" )\n",
    "sheet_name = input( \"Nombre de la hoja de Excel para la salida:\" )\n",
    "\n",
    "# abrir los archivos\n",
    "try:\n",
    "    wb = openpyxl.load_workbook('blanco.xlsx')\n",
    "    sheet = wb.get_sheet_by_name('Hoja1')\n",
    "    file = open(csv_name,\"r\",encoding = \"utf-8\")\n",
    "except:\n",
    "    print( \"¡Error de archivo!\" )\n",
    "    sys.exit()\n",
    "    \n",
    "\n",
    "#filas y columnas\n",
    "row = 1\n",
    "column = 1\n",
    "\n",
    "# para cada línea del archivo\n",
    "for line in file:\n",
    "    # eliminar \\ n de la línea y convertirlo en una lista con el separador\n",
    "    line = line[:-1]\n",
    "    line = line.split(sep)\n",
    "\n",
    "    # para cada dato de la línea\n",
    "    for data in line:\n",
    "        #escribe los datos en la celda\n",
    "        sheet.cell(row,column).value = data\n",
    "        #después de que cada número de columna de datos aumenta en 1\n",
    "        column += 1\n",
    "\n",
    "    #para escribir la siguiente línea, el número de columna se establece en 1 y el número de fila se incrementa en 1\n",
    "    column = 1\n",
    "    row += 1\n",
    "\n",
    "# guardar el archivo de Excel y cerrar el archivo csv\n",
    "wb.save(excel_name)\n",
    "file.close()"
   ]
  },
  {
   "cell_type": "code",
   "execution_count": null,
   "id": "f9d293e2",
   "metadata": {},
   "outputs": [],
   "source": []
  }
 ],
 "metadata": {
  "kernelspec": {
   "display_name": "Python 3",
   "language": "python",
   "name": "python3"
  },
  "language_info": {
   "codemirror_mode": {
    "name": "ipython",
    "version": 3
   },
   "file_extension": ".py",
   "mimetype": "text/x-python",
   "name": "python",
   "nbconvert_exporter": "python",
   "pygments_lexer": "ipython3",
   "version": "3.8.8"
  }
 },
 "nbformat": 4,
 "nbformat_minor": 5
}
